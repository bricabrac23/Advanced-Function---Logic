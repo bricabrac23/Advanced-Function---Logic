{
 "cells": [
  {
   "cell_type": "code",
   "execution_count": 1,
   "metadata": {},
   "outputs": [
    {
     "name": "stdout",
     "output_type": "stream",
     "text": [
      "[1, 2, 3, 4, 5, 6]\n"
     ]
    }
   ],
   "source": [
    "#Write a python program that, given an input list, will filter the input above a user \n",
    "#defined threshold. This is to be done with a standard function.\n",
    "#That is, given a list [1,2,3,4,5,6,7,8,9], and an argument (6), \n",
    "#it should return [1,2,3,4,5,6]\n",
    "\n",
    "def slice_list(length):\n",
    "    list=[1,2,3,4,5,6,7,8,9,10]\n",
    "    if(length>len(list)):\n",
    "        print('Input a number less than')+print(len(list))\n",
    "    else:\n",
    "        sliced_list=list[:length]\n",
    "        print(sliced_list)\n",
    "\n",
    "\n",
    "slice_list(6)"
   ]
  },
  {
   "cell_type": "code",
   "execution_count": null,
   "metadata": {},
   "outputs": [],
   "source": []
  }
 ],
 "metadata": {
  "kernelspec": {
   "display_name": "Python 3",
   "language": "python",
   "name": "python3"
  },
  "language_info": {
   "codemirror_mode": {
    "name": "ipython",
    "version": 3
   },
   "file_extension": ".py",
   "mimetype": "text/x-python",
   "name": "python",
   "nbconvert_exporter": "python",
   "pygments_lexer": "ipython3",
   "version": "3.7.6"
  }
 },
 "nbformat": 4,
 "nbformat_minor": 4
}
