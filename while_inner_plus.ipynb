{
 "cells": [
  {
   "cell_type": "code",
   "execution_count": 40,
   "id": "1c588956",
   "metadata": {},
   "outputs": [
    {
     "name": "stdout",
     "output_type": "stream",
     "text": [
      "0\n",
      "5\n",
      "we are here\n",
      "we are here\n",
      "we are here\n",
      "we are here\n",
      "we are now inside the list\n",
      "[5, 6, 7, [8, 9]]\n"
     ]
    }
   ],
   "source": [
    "#Write a python program that, given an input list of any level of complexity/nestedness, \n",
    "#will return the inner most list plus 1. This is to be done with a while loop. \n",
    "#Note: the input will contain only integers or lists. \n",
    "\n",
    "#As an example:\n",
    "#input_list = [1,2,3,4,[5,6,7,[8,9]]]\n",
    "#your_py_program.py input_list\n",
    "#will produce:\n",
    "#[9,10]\n",
    "#That is [8, 9] (the inner most list) plus 1 -> [9, 10]\n",
    "\n",
    "#print(input_list)\n",
    "#print(input_list[0:4])\n",
    "#print(input_list[4])\n",
    "#print(input_list[4][0])\n",
    "#print(input_list[4][0:3])\n",
    "#print(input_list[4][3])\n",
    "#print(input_list[4][3][0])\n",
    "#print(input_list[4][3][0:2])\n",
    "\n",
    " #   i=1\n",
    " #   while i < 3:\n",
    " #       nested_list[0:len(nested_list)]\n",
    " \n",
    "#simple_input_list = [1,2,3]\n",
    "\n",
    "#complex_input_list = [1,2,3,4, [5,6,7, [8,9],8,9],5, [6,[7]]]\n",
    "\n",
    "#input_list = [1,2,3,4,[5,6,7,[8,9]]]\n",
    "\n",
    "#print(input_list)\n",
    "#print(type(input_list))\n",
    "\n",
    "def innermost(nested_list):\n",
    "    if type(nested_list) == list:\n",
    "        print(\"it's a list!\")\n",
    "        print(len(nested_list))\n",
    "        print(nested_list[len(nested_list)-1])\n",
    "        x = (nested_list[len(nested_list)-1])\n",
    "        print(type(x))\n",
    "        if type(x) == list:\n",
    "            y = x[len(x)-1]\n",
    "            z = [y + 1 for y in y]\n",
    "            print(z)\n",
    "            print(\"this is also a list!\")\n",
    "#This only works for this example though.    \n",
    "    \n",
    "#innermost(input_list)\n",
    "\n",
    "a_list = []    \n",
    "\n",
    "input_list = [1,2,3,4,[5,6,7,[8,9]]]\n",
    "\n",
    "#while type(obj) in input_list == list:\n",
    "    \n",
    "def innermost_while(input):\n",
    "    count = 0\n",
    "    print(count)\n",
    "    print(len(input))\n",
    "    while count < len(input):\n",
    "        print(\"we are here\")\n",
    "        count += 1\n",
    "        if isinstance(input[count], list):\n",
    "            print(\"we are now inside the list\")\n",
    "            print(input[count])\n",
    "            count = 0\n",
    "#            print(i)\n",
    "            \n",
    "#            count += 1\n",
    "#            break\n",
    "            \n",
    "innermost_while(input_list)\n",
    "\n",
    "#while any(type(obj) == list for obj in input_list):\n",
    "#    print(\"this while loop is working\")\n",
    "#    print(input_list)\n",
    "    \n",
    "#    break\n",
    "    #keep opening lists until there is no list, then return that list +=1\n",
    "#    while any(type(obj) == list for obj obj in simple_input_list:\n",
    "#        obj+=1\n",
    "#        print(simple_input_list)\n",
    "#while any type of object inside the list is a list, keep opening the lists.\n",
    "#while any type of object inside the list has no list, return that list +=1"
   ]
  }
 ],
 "metadata": {
  "kernelspec": {
   "display_name": "Python 3.10.6 64-bit",
   "language": "python",
   "name": "python3"
  },
  "language_info": {
   "codemirror_mode": {
    "name": "ipython",
    "version": 3
   },
   "file_extension": ".py",
   "mimetype": "text/x-python",
   "name": "python",
   "nbconvert_exporter": "python",
   "pygments_lexer": "ipython3",
   "version": "3.10.6"
  },
  "vscode": {
   "interpreter": {
    "hash": "aee8b7b246df8f9039afb4144a1f6fd8d2ca17a180786b69acc140d282b71a49"
   }
  }
 },
 "nbformat": 4,
 "nbformat_minor": 5
}
