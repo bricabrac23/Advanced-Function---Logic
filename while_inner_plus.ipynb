{
 "cells": [
  {
   "cell_type": "code",
   "execution_count": 1,
   "id": "1c588956",
   "metadata": {},
   "outputs": [
    {
     "name": "stdout",
     "output_type": "stream",
     "text": [
      "[9, 10]\n"
     ]
    }
   ],
   "source": [
    "#Write a python program that, given an input list of any level of complexity/nestedness, \n",
    "#will return the inner most list plus 1. This is to be done with a while loop. \n",
    "#Note: the input will contain only integers or lists. \n",
    "\n",
    "#As an example:\n",
    "#input_list = [1,2,3,4,[5,6,7,[8,9]]]\n",
    "#your_py_program.py input_list\n",
    "#will produce:\n",
    "#[9,10]\n",
    "#That is [8, 9] (the inner most list) plus 1 -> [9, 10]\n",
    "\n",
    "#Bryce wrote this program:\n",
    "input_list = [1,2,3,4,[5,6,7,[8,9]]]\n",
    "    \n",
    "def innermost(input): #defining function innermost with nested list input as \"input\"\n",
    "    count = 0 #starting iteration count at 0\n",
    "    while count < len(input): #start while loop with an end in sight - once count = length of input, terminate while loop\n",
    "        if all(type(obj) == int for obj in input): #if all objects in the list are integers only, we are at the innermost nested list\n",
    "            input = [x+1 for x in input] #adding 1 to each component of the innermost list of integers only\n",
    "            print(input) #printing output\n",
    "            break #stop process from continuing\n",
    "        elif type(input[count]) == int: #if the iterated item is an integer, keep going through count\n",
    "            count += 1\n",
    "        elif type(input[count]) == list: #if the iterated item is a list, reset the input to that list, and reset the count to 0\n",
    "            input = input[count]\n",
    "            count = 0\n",
    "            \n",
    "innermost(input_list)"
   ]
  }
 ],
 "metadata": {
  "kernelspec": {
   "display_name": "Python 3.10.6 64-bit",
   "language": "python",
   "name": "python3"
  },
  "language_info": {
   "codemirror_mode": {
    "name": "ipython",
    "version": 3
   },
   "file_extension": ".py",
   "mimetype": "text/x-python",
   "name": "python",
   "nbconvert_exporter": "python",
   "pygments_lexer": "ipython3",
   "version": "3.10.6"
  },
  "vscode": {
   "interpreter": {
    "hash": "aee8b7b246df8f9039afb4144a1f6fd8d2ca17a180786b69acc140d282b71a49"
   }
  }
 },
 "nbformat": 4,
 "nbformat_minor": 5
}
