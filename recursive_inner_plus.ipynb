{
 "cells": [
  {
   "cell_type": "code",
   "execution_count": 1,
   "id": "1c588956",
   "metadata": {},
   "outputs": [
    {
     "name": "stdout",
     "output_type": "stream",
     "text": [
      "[9, 10]\n"
     ]
    }
   ],
   "source": [
    "#Write the a python program that, given an input list of any level of \n",
    "#complexity/nestedness, will return the inner most list plus 1. \n",
    "#This is to be done with recursion. Note: the input will contain only integers or lists. \n",
    "\n",
    "#Govinda wrote this code:\n",
    "input_list= [1,2,3,4,[5,6,7,[8,9]]]\n",
    "listA = input_list\n",
    "\n",
    "def listB(list):\n",
    "    if(len(list)>1):\n",
    "        for i in list:\n",
    "            if type(i) == type([]):\n",
    "                return listB(i)\n",
    "            else:\n",
    "                continue\n",
    "    return list\n",
    "s = listB(listA)\n",
    "add = [x+1 for x in s]\n",
    "print(add)"
   ]
  }
 ],
 "metadata": {
  "kernelspec": {
   "display_name": "Python 3.10.6 64-bit",
   "language": "python",
   "name": "python3"
  },
  "language_info": {
   "codemirror_mode": {
    "name": "ipython",
    "version": 3
   },
   "file_extension": ".py",
   "mimetype": "text/x-python",
   "name": "python",
   "nbconvert_exporter": "python",
   "pygments_lexer": "ipython3",
   "version": "3.10.6"
  },
  "vscode": {
   "interpreter": {
    "hash": "aee8b7b246df8f9039afb4144a1f6fd8d2ca17a180786b69acc140d282b71a49"
   }
  }
 },
 "nbformat": 4,
 "nbformat_minor": 5
}
